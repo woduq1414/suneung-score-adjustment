{
 "cells": [
  {
   "cell_type": "code",
   "execution_count": 1,
   "metadata": {},
   "outputs": [],
   "source": [
    "import numpy as np"
   ]
  },
  {
   "cell_type": "code",
   "execution_count": 19,
   "metadata": {},
   "outputs": [],
   "source": [
    "o_c_score = 74 # 학생의 공통과목 원점수\n",
    "o_e_score = 26 # 학생의 선택과목 원점수\n",
    "\n",
    "group_o_c_mean = 50.321667 #선택과목 집단의 공통과목 원점수 평균\n",
    "group_o_c_std = 11.641852 #선택과목 집단의 공통과목 원점수 표준편차\n",
    "group_o_e_mean = 16.758333 #선택과목 집단의 선택과목 원점수 평균\n",
    "group_o_e_std = 4.875502 #선택과목 집단의 선택과목 원점수 표준편차\n",
    "\n",
    "\n",
    "def get_adjust_o_elective_score(o_e_score): # 선택과목 조정 원점수 산출\n",
    "    return (o_e_score - group_o_e_mean) / group_o_e_std * group_o_c_std + group_o_c_mean\n",
    "\n"
   ]
  },
  {
   "cell_type": "code",
   "execution_count": 23,
   "metadata": {},
   "outputs": [
    {
     "name": "stdout",
     "output_type": "stream",
     "text": [
      "72.38916270552612\n"
     ]
    }
   ],
   "source": [
    "ao_e_score = get_adjust_o_elective_score(o_e_score) # 선택과목 조정 원점수\n",
    "\n",
    "print(ao_e_score)\n",
    "\n",
    "all_o_c_mean = 53.9666 #모든 수험생 집단의 공통과목 원점수 평균\n",
    "all_o_c_std = 12.069259208566558 #모든 수험생 집단의 공통과목 원점수 표준편차\n",
    "all_ao_e_mean = 53.9666 #모든 수험생 집단의 선택과목 원점수 평균\n",
    "all_ao_e_std = 12.069259208566551 #모든 수험생 집단의 선택과목 원점수 표준편차\n",
    "\n",
    "def get_adjust_z_score(o_c_score, ao_e_score ):\n",
    "    return (o_c_score - all_o_c_mean) / all_o_c_std,  (ao_e_score - all_ao_e_mean) / all_ao_e_std\n"
   ]
  },
  {
   "cell_type": "code",
   "execution_count": 24,
   "metadata": {},
   "outputs": [
    {
     "name": "stdout",
     "output_type": "stream",
     "text": [
      "1.6598698937363636 1.5264037657298886\n"
     ]
    }
   ],
   "source": [
    "z_c_score, z_e_score = get_adjust_z_score(o_c_score, ao_e_score) #학생의 공통과목 표준화점수, 학생의 선택과목 표준화점수\n",
    "print(z_c_score, z_e_score)"
   ]
  },
  {
   "cell_type": "code",
   "execution_count": 25,
   "metadata": {},
   "outputs": [],
   "source": [
    "c_points_ratio = 0.74 #공통과목 비중\n",
    "\n",
    "def get_weighted_sum_z_score(z_c_score, z_e_score, c_points_ratio):\n",
    "    return z_c_score * c_points_ratio + (1 - c_points_ratio) * z_e_score\n",
    "\n",
    "\n",
    "weighted_sum_z_score = get_weighted_sum_z_score(z_c_score, z_e_score, c_points_ratio)\n"
   ]
  },
  {
   "cell_type": "code",
   "execution_count": 26,
   "metadata": {},
   "outputs": [],
   "source": [
    "subject_default_mean = 100\n",
    "subject_default_std = 20\n",
    "def get_final_z_score(weighted_sum_z_score, subject_default_mean, subject_default_std):\n",
    "    return weighted_sum_z_score * subject_default_std + subject_default_mean"
   ]
  },
  {
   "cell_type": "code",
   "execution_count": 27,
   "metadata": {},
   "outputs": [
    {
     "name": "stdout",
     "output_type": "stream",
     "text": [
      "132.5033740090936\n"
     ]
    }
   ],
   "source": [
    "print(get_final_z_score(weighted_sum_z_score, subject_default_mean, subject_default_std))"
   ]
  },
  {
   "cell_type": "code",
   "execution_count": null,
   "metadata": {},
   "outputs": [],
   "source": []
  }
 ],
 "metadata": {
  "kernelspec": {
   "display_name": "Python 3",
   "language": "python",
   "name": "python3"
  },
  "language_info": {
   "codemirror_mode": {
    "name": "ipython",
    "version": 3
   },
   "file_extension": ".py",
   "mimetype": "text/x-python",
   "name": "python",
   "nbconvert_exporter": "python",
   "pygments_lexer": "ipython3",
   "version": "3.7.3"
  }
 },
 "nbformat": 4,
 "nbformat_minor": 2
}
